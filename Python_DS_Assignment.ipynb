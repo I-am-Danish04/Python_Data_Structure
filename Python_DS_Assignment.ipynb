{
  "nbformat": 4,
  "nbformat_minor": 0,
  "metadata": {
    "colab": {
      "provenance": [],
      "authorship_tag": "ABX9TyPsY9xokeIsEgNtTtnECnQZ",
      "include_colab_link": true
    },
    "kernelspec": {
      "name": "python3",
      "display_name": "Python 3"
    },
    "language_info": {
      "name": "python"
    }
  },
  "cells": [
    {
      "cell_type": "markdown",
      "metadata": {
        "id": "view-in-github",
        "colab_type": "text"
      },
      "source": [
        "<a href=\"https://colab.research.google.com/github/I-am-Danish04/Python_Data_Structure/blob/main/Python_DS_Assignment.ipynb\" target=\"_parent\"><img src=\"https://colab.research.google.com/assets/colab-badge.svg\" alt=\"Open In Colab\"/></a>"
      ]
    },
    {
      "cell_type": "code",
      "execution_count": null,
      "metadata": {
        "colab": {
          "base_uri": "https://localhost:8080/"
        },
        "id": "-OC9EuVoqL0N",
        "outputId": "71070a0e-e882-4f8f-f064-15e435ad3236"
      },
      "outputs": [
        {
          "output_type": "stream",
          "name": "stdout",
          "text": [
            "Enter the string: Hello World\n",
            "Reversed String: dlroW olleH\n"
          ]
        }
      ],
      "source": [
        "# 1) Write a code to reverse a string\n",
        "s = input(\"Enter the string: \")\n",
        "str_rev = \"\"\n",
        "str_rev = s[::-1]\n",
        "print(\"Reversed String:\",str_rev)"
      ]
    },
    {
      "cell_type": "code",
      "source": [
        "# 2) Write a code to count the number of vowels in a string\n",
        "s = input(\"Enter the string: \")\n",
        "count = 0\n",
        "vowels = ['a', 'e', 'i', 'o', 'u', 'A', 'E', 'I', 'O', 'U']\n",
        "for i in s:\n",
        "  if i in vowels:\n",
        "    count += 1\n",
        "print(\"Number of vowels are:\", count)"
      ],
      "metadata": {
        "colab": {
          "base_uri": "https://localhost:8080/"
        },
        "id": "9VllAChrqNnF",
        "outputId": "241c91c0-cf1c-4bb0-8111-25f51638f6cd"
      },
      "execution_count": null,
      "outputs": [
        {
          "output_type": "stream",
          "name": "stdout",
          "text": [
            "Enter the string: Hello World\n",
            "Number of vowels are: 3\n"
          ]
        }
      ]
    },
    {
      "cell_type": "code",
      "source": [
        "# 3) Write a code to check if a given string is a palindrome or not\n",
        "s = input(\"Enter the string: \")\n",
        "str_rev = s[::-1]\n",
        "if s.lower() == str_rev.lower():\n",
        "  print(\"String is a Palindrome\")\n",
        "else:\n",
        "  print(\"String is not a Palindrome\")"
      ],
      "metadata": {
        "colab": {
          "base_uri": "https://localhost:8080/"
        },
        "id": "qjnocslWqOPd",
        "outputId": "a385616c-7cde-4083-ed56-79b36d421318"
      },
      "execution_count": null,
      "outputs": [
        {
          "output_type": "stream",
          "name": "stdout",
          "text": [
            "Enter the string: Bob\n",
            "String is a Palindrome\n"
          ]
        }
      ]
    },
    {
      "cell_type": "code",
      "source": [
        "# 4)  Write a code to check if two given strings are anagrams of each other\n",
        "str1 = input(\"Enter the first string: \")\n",
        "str2 = input(\"Enter the second string: \")\n",
        "if sorted(str1.lower()) == sorted(str2.lower()):\n",
        "  print(\"String is an Anagram\")\n",
        "else:\n",
        "  print(\"String is not an Anagram\")"
      ],
      "metadata": {
        "colab": {
          "base_uri": "https://localhost:8080/"
        },
        "id": "QQUVcOH6qOYs",
        "outputId": "ddd2a22c-c20f-4161-ed8e-78469dae6061"
      },
      "execution_count": null,
      "outputs": [
        {
          "output_type": "stream",
          "name": "stdout",
          "text": [
            "Enter the first string: Elephant\n",
            "Enter the second string: Phaeeltn\n",
            "String is an Anagram\n"
          ]
        }
      ]
    },
    {
      "cell_type": "code",
      "source": [
        "# 5) Write a code to find all occurrences of a given substring within another string\n",
        "occurrences = []\n",
        "s = input(\"Enter the string: \")\n",
        "sub_str = input(\"Enter the substring: \")\n",
        "for i in range(len(s)):\n",
        "  if s[i:i+len(sub_str)] == sub_str:\n",
        "    occurrences.append(i)\n",
        "print(\"Substring occurred at index:\", occurrences)"
      ],
      "metadata": {
        "colab": {
          "base_uri": "https://localhost:8080/"
        },
        "id": "LNDrW_YIqfVv",
        "outputId": "f60519f1-701f-4f48-fd63-75f07ac44bef"
      },
      "execution_count": null,
      "outputs": [
        {
          "output_type": "stream",
          "name": "stdout",
          "text": [
            "Enter the string: Banana\n",
            "Enter the substring: ana\n",
            "Substring occurred at index: [1, 3]\n"
          ]
        }
      ]
    },
    {
      "cell_type": "code",
      "source": [
        "# 6) Write a code to perform basic string compression using the counts of repeated characters\n",
        "s = input(\"Enter the string: \")\n",
        "compressed = []\n",
        "count = 1\n",
        "for i in range(1, len(s)):\n",
        "  if s[i] == s[i-1]:\n",
        "    count += 1\n",
        "  else:\n",
        "    compressed.append(s[i-1] + str(count))\n",
        "    count = 1\n",
        "compressed.append(s[-1] + str(count))\n",
        "print(\"Compressed string is:\", ''.join(compressed))"
      ],
      "metadata": {
        "colab": {
          "base_uri": "https://localhost:8080/"
        },
        "id": "Z822VF09qpER",
        "outputId": "d35741eb-adfa-456a-d498-39c3b59fa743"
      },
      "execution_count": null,
      "outputs": [
        {
          "output_type": "stream",
          "name": "stdout",
          "text": [
            "Enter the string: aabccccd\n",
            "Compressed string is: a2b1c4d1\n"
          ]
        }
      ]
    },
    {
      "cell_type": "code",
      "source": [
        "# 7) Write a code to determine if a string has all unique characters\n",
        "s = input(\"Enter the string: \")\n",
        "flag = True\n",
        "for i in range(len(s)):\n",
        "  for j in range(i+1, len(s)):\n",
        "    if s[i] == s[j]:\n",
        "      print(\"String has duplicate values\")\n",
        "      flag = False\n",
        "      break\n",
        "if flag == True:\n",
        "  print(\"String is unique\")"
      ],
      "metadata": {
        "colab": {
          "base_uri": "https://localhost:8080/"
        },
        "id": "X9OV21bnrkiP",
        "outputId": "13a2ca57-d8ec-4d67-982d-6a3f4e28406e"
      },
      "execution_count": null,
      "outputs": [
        {
          "output_type": "stream",
          "name": "stdout",
          "text": [
            "Enter the string: abcdef\n",
            "String is unique\n"
          ]
        }
      ]
    },
    {
      "cell_type": "code",
      "source": [
        "# 8)  Write a code to convert a given string to uppercase or lowercase\n",
        "s = input(\"Enter the string: \")\n",
        "print(\"Converting string to uppercase:\", s.upper())\n",
        "print(\"Converting string to lowercase:\", s.lower())"
      ],
      "metadata": {
        "colab": {
          "base_uri": "https://localhost:8080/"
        },
        "id": "4QQuTSeasl-p",
        "outputId": "a5f55181-7fd6-4831-93a8-cc52f0e399c3"
      },
      "execution_count": null,
      "outputs": [
        {
          "output_type": "stream",
          "name": "stdout",
          "text": [
            "Enter the string: Hello World\n",
            "Converting string to uppercase: HELLO WORLD\n",
            "Converting string to lowercase: hello world\n"
          ]
        }
      ]
    },
    {
      "cell_type": "code",
      "source": [
        "# 9) Write a code to count the number of words in a string\n",
        "s = input(\"Enter the string: \")\n",
        "count = 1\n",
        "for i in range(len(s)):\n",
        "  if s[i] == \" \":\n",
        "    count += 1\n",
        "print(\"Number of words in a string are:\", count)\n"
      ],
      "metadata": {
        "colab": {
          "base_uri": "https://localhost:8080/"
        },
        "id": "dkidcvaOtAh8",
        "outputId": "bb518b82-460f-471c-d141-188818ebc418"
      },
      "execution_count": null,
      "outputs": [
        {
          "output_type": "stream",
          "name": "stdout",
          "text": [
            "Enter the string: Hello World, Welcome to PW\n",
            "Number of words in a string are: 5\n"
          ]
        }
      ]
    },
    {
      "cell_type": "code",
      "source": [
        "# 10) Write a code to concatenate two strings without using the + operator\n",
        "s1 = input(\"Enter the first string: \")\n",
        "s2 = input(\"Enter the second string: \")\n",
        "s = ''.join([s1, s2])\n",
        "print(s)"
      ],
      "metadata": {
        "colab": {
          "base_uri": "https://localhost:8080/"
        },
        "id": "iHBhLRKHtdzQ",
        "outputId": "4d6b245a-301b-4d67-80bf-0564e512289a"
      },
      "execution_count": null,
      "outputs": [
        {
          "output_type": "stream",
          "name": "stdout",
          "text": [
            "Enter the first string: Hello\n",
            "Enter the second string: World\n",
            "HelloWorld\n"
          ]
        }
      ]
    },
    {
      "cell_type": "code",
      "source": [
        "# 11) Write a code to remove all occurrences of a specific element from a list\n",
        "l = [1, 2, 3, 4, 3, 2, 3]\n",
        "remove = int(input(\"Enter the element to remove: \"))\n",
        "updated_l = []\n",
        "for i in range(len(l)):\n",
        "  if l[i] != remove:\n",
        "    updated_l.append(l[i])\n",
        "print(\"After removing\",remove,\"list is\",updated_l)"
      ],
      "metadata": {
        "colab": {
          "base_uri": "https://localhost:8080/"
        },
        "id": "HokxCRUB5SLw",
        "outputId": "d249464e-d262-4b1a-b85c-31157dd55e54"
      },
      "execution_count": null,
      "outputs": [
        {
          "output_type": "stream",
          "name": "stdout",
          "text": [
            "Enter the element to remove: 3\n",
            "After removing 3 list is [1, 2, 4, 2]\n"
          ]
        }
      ]
    },
    {
      "cell_type": "code",
      "source": [
        "# 12) Implement a code to find the second largest number in a given list of integers\n",
        "l = [1,2,3,4,89,7,10]\n",
        "maxi = l[0]\n",
        "sec_max = l[0]\n",
        "for i in range(1, len(l)):\n",
        "  maxi = max(maxi, l[i])\n",
        "for i in range(1, len(l)):\n",
        "  if l[i] != maxi:\n",
        "    sec_max = max(sec_max, l[i])\n",
        "print(\"Second maximum element is:\", sec_max)"
      ],
      "metadata": {
        "colab": {
          "base_uri": "https://localhost:8080/"
        },
        "id": "Nw4XcQ9QmKMx",
        "outputId": "bcbea090-87cc-432a-b5aa-95911481451e"
      },
      "execution_count": null,
      "outputs": [
        {
          "output_type": "stream",
          "name": "stdout",
          "text": [
            "Second maximum element is: 10\n"
          ]
        }
      ]
    },
    {
      "cell_type": "code",
      "source": [
        "# 13) Create a code to count the occurrences of each element in a list and return a dictionary with elements as\n",
        "# keys and their counts as values\n",
        "l = [1,2,3,1,4,4,5,5,2,5]\n",
        "counts = {}\n",
        "for i in l:\n",
        "  if i in counts:\n",
        "    counts[i] += 1\n",
        "  else:\n",
        "    counts[i] = 1\n",
        "print(counts)"
      ],
      "metadata": {
        "colab": {
          "base_uri": "https://localhost:8080/"
        },
        "id": "HA_dwzY_nyQZ",
        "outputId": "8e415ab6-82e1-4096-e2bc-982772429f16"
      },
      "execution_count": null,
      "outputs": [
        {
          "output_type": "stream",
          "name": "stdout",
          "text": [
            "{1: 2, 2: 2, 3: 1, 4: 2, 5: 3}\n"
          ]
        }
      ]
    },
    {
      "cell_type": "code",
      "source": [
        "# 14) Write a code to reverse a list in-place without using any built-in reverse\n",
        "l = [1,2,3,4,5,6]\n",
        "left = 0\n",
        "right = len(l) - 1\n",
        "while left < right:\n",
        "  l[left], l[right] = l[right], l[left]\n",
        "  left += 1\n",
        "  right -= 1\n",
        "print(\"Reversed list is:\", l)"
      ],
      "metadata": {
        "colab": {
          "base_uri": "https://localhost:8080/"
        },
        "id": "ECMuWwm_pna1",
        "outputId": "65dc13ce-7590-45fa-9ebb-b2ff654d29e9"
      },
      "execution_count": null,
      "outputs": [
        {
          "output_type": "stream",
          "name": "stdout",
          "text": [
            "Reversed list is: [6, 5, 4, 3, 2, 1]\n"
          ]
        }
      ]
    },
    {
      "cell_type": "code",
      "source": [
        "# 15) Implement a code to find and remove duplicates from a list while preserving the original order of\n",
        "# elements\n",
        "l = [1,2,3,5,1,2,1,5,4,5]\n",
        "updated_l = []\n",
        "for i in l:\n",
        "  if i not in updated_l:\n",
        "    updated_l.append(i)\n",
        "print(\"List after removing duplicates is:\", updated_l)"
      ],
      "metadata": {
        "colab": {
          "base_uri": "https://localhost:8080/"
        },
        "id": "aTJuCfTrsE_n",
        "outputId": "cbedfc5b-76f4-4670-a573-452e75aef1c2"
      },
      "execution_count": null,
      "outputs": [
        {
          "output_type": "stream",
          "name": "stdout",
          "text": [
            "List after removing duplicates is: [1, 2, 3, 5, 4]\n"
          ]
        }
      ]
    },
    {
      "cell_type": "code",
      "source": [
        "# 16) Create a code to check if a given list is sorted (either in ascending or descending order) or not\n",
        "l = [9,6,4,2]\n",
        "if all(l[i] <= l[i+1] for i in range(len(l) - 1)):\n",
        "  print(\"List is sorted in ascending order\")\n",
        "elif all(l[i] >= l[i+1] for i in range(len(l) - 1)):\n",
        "  print(\"List is sorted in descending order\")\n",
        "else:\n",
        "  print(\"List is not sorted\")"
      ],
      "metadata": {
        "colab": {
          "base_uri": "https://localhost:8080/"
        },
        "id": "wxI6iH6Ts7wx",
        "outputId": "e1df739b-bc7e-4836-d1c1-24b7b497da1e"
      },
      "execution_count": null,
      "outputs": [
        {
          "output_type": "stream",
          "name": "stdout",
          "text": [
            "List is sorted in descending order\n"
          ]
        }
      ]
    },
    {
      "cell_type": "code",
      "source": [
        "# 17) Write a code to merge two sorted lists into a single sorted list\n",
        "l1 = [1,2,3,10,12]\n",
        "l2 = [6,7,8,9]\n",
        "l = []\n",
        "i = 0\n",
        "j = 0\n",
        "k = 0\n",
        "while i in range(len(l1)) and j in range(len(l2)):\n",
        "  if l1[i] < l2[j]:\n",
        "    l.append(l1[i])\n",
        "    i += 1\n",
        "    k += 1\n",
        "  else:\n",
        "    l.append(l2[j])\n",
        "    j += 1\n",
        "    k += 1\n",
        "while i in range(len(l1)):\n",
        "  l.append(l1[i])\n",
        "  i += 1\n",
        "  k += 1\n",
        "while j in range(len(l2)):\n",
        "  l.append(l2[j])\n",
        "  j += 1\n",
        "  k += 1\n",
        "print(l)"
      ],
      "metadata": {
        "colab": {
          "base_uri": "https://localhost:8080/"
        },
        "id": "DAg6YlP3u4gW",
        "outputId": "a43d922a-3ec6-4fb8-b84c-7f4b619dd2aa"
      },
      "execution_count": null,
      "outputs": [
        {
          "output_type": "stream",
          "name": "stdout",
          "text": [
            "[1, 2, 3, 6, 7, 8, 9, 10, 12]\n"
          ]
        }
      ]
    },
    {
      "cell_type": "code",
      "source": [
        "# 18) Implement a code to find the intersection of two given lists\n",
        "l1 = [3,4,2,6,7]\n",
        "l2 = [9,0,7,4]\n",
        "s1 = set(l1)\n",
        "s2 = set(l2)\n",
        "intersection = s1 & s2\n",
        "print(\"Intersection of two given lists are:\",list(intersection))"
      ],
      "metadata": {
        "colab": {
          "base_uri": "https://localhost:8080/"
        },
        "id": "z9b6arqszFIA",
        "outputId": "6913e059-46d9-4202-8f0e-51caadb11146"
      },
      "execution_count": null,
      "outputs": [
        {
          "output_type": "stream",
          "name": "stdout",
          "text": [
            "Intersection of two given lists are: [4, 7]\n"
          ]
        }
      ]
    },
    {
      "cell_type": "code",
      "source": [
        "# 19) Create a code to find the union of two lists without duplicates\n",
        "l1 = [3,4,2,6,7]\n",
        "l2 = [9,0,7,4]\n",
        "s1 = set(l1)\n",
        "s2 = set(l2)\n",
        "union = s1 | s2\n",
        "print(\"Union of two lists are:\", list(union))"
      ],
      "metadata": {
        "colab": {
          "base_uri": "https://localhost:8080/"
        },
        "id": "aIT14QRAzqbt",
        "outputId": "83f393d2-7e1c-4ed3-c169-d53347f42c6b"
      },
      "execution_count": null,
      "outputs": [
        {
          "output_type": "stream",
          "name": "stdout",
          "text": [
            "Union of two lists are: [0, 2, 3, 4, 6, 7, 9]\n"
          ]
        }
      ]
    },
    {
      "cell_type": "code",
      "source": [
        "# 20) Write a code to shuffle a given list randomly without using any built-in shuffle functions\n",
        "import random\n",
        "l = [1,2,3,4,5]\n",
        "for i in range(len(l)):\n",
        "  rand = random.randint(0, len(l) - 1)\n",
        "  l[i], l[rand] = l[rand], l[i]\n",
        "print(\"List after shuffling is:\", l)"
      ],
      "metadata": {
        "colab": {
          "base_uri": "https://localhost:8080/"
        },
        "id": "GSDxtdhi0FsB",
        "outputId": "6688e52d-1ce2-47ef-d045-a8d7fbbcd459"
      },
      "execution_count": 1,
      "outputs": [
        {
          "output_type": "stream",
          "name": "stdout",
          "text": [
            "List after shuffling is: [4, 1, 3, 5, 2]\n"
          ]
        }
      ]
    },
    {
      "cell_type": "code",
      "source": [
        "# 21) Write a code that takes two tuples as input and returns a new tuple containing elements that are\n",
        "# common to both input tuples\n",
        "t1 = tuple(map(int, input(\"Enter the first tuple, separated by spaces:\").split()))\n",
        "t2 = tuple(map(int, input(\"Enter the second tuple, separated by spaces:\").split()))\n",
        "t = set(t1) & set(t2)\n",
        "print(\"Common elements of two tuples are:\", tuple(t))"
      ],
      "metadata": {
        "colab": {
          "base_uri": "https://localhost:8080/"
        },
        "id": "3OgRhmMvJAtE",
        "outputId": "d72a7a54-06c9-44f2-9961-a267aad590e1"
      },
      "execution_count": 4,
      "outputs": [
        {
          "output_type": "stream",
          "name": "stdout",
          "text": [
            "Enter the first tuple, separated by spaces:1 2 3 4 5\n",
            "Enter the second tuple, separated by spaces:4 5 6 7 8\n",
            "Common elements of two tuples are: (4, 5)\n"
          ]
        }
      ]
    },
    {
      "cell_type": "code",
      "source": [
        "# 22) Create a code that prompts the user to enter two sets of integers separated by commas. Then, print the\n",
        "# intersection of these two sets\n",
        "s1 = input(\"Enter the first set of integers(comma-separated):\")\n",
        "s2 = input(\"Enter the second set of integers(comma-separated):\")\n",
        "set1 = set(map(int, s1.split(',')))\n",
        "set2 = set(map(int, s2.split(',')))\n",
        "intersection = set1 & set2\n",
        "print(\"Intersection of two sets are:\", intersection)"
      ],
      "metadata": {
        "colab": {
          "base_uri": "https://localhost:8080/"
        },
        "id": "g9b3fojoLPQe",
        "outputId": "20683161-53d9-4e99-ec40-8438f4e1e526"
      },
      "execution_count": 8,
      "outputs": [
        {
          "output_type": "stream",
          "name": "stdout",
          "text": [
            "Enter the first set of integers(comma-separated):1,2,3,4,5\n",
            "Enter the second set of integers(comma-separated):4,5,6,7,8\n",
            "Intersection of two sets are: {4, 5}\n"
          ]
        }
      ]
    },
    {
      "cell_type": "code",
      "source": [
        "# 23) Write a code to concatenate two tuples. The function should take two tuples as input and return a new\n",
        "# tuple containing elements from both input tuples.\n",
        "t1 = tuple(map(int, input(\"Enter the first tuple, separated by spaces:\").split()))\n",
        "t2 = tuple(map(int, input(\"Enter the second tuple, separated by spaces:\").split()))\n",
        "t = t1 + t2\n",
        "print(\"Unique elements:\", t)"
      ],
      "metadata": {
        "colab": {
          "base_uri": "https://localhost:8080/"
        },
        "id": "BYIuUMowNlht",
        "outputId": "9b3b11bd-0542-4f43-b579-6920dbd9b440"
      },
      "execution_count": 13,
      "outputs": [
        {
          "output_type": "stream",
          "name": "stdout",
          "text": [
            "Enter the first tuple, separated by spaces:1 2 3 4 5\n",
            "Enter the second tuple, separated by spaces:6 7 8 9 10\n",
            "Unique elements: (1, 2, 3, 4, 5, 6, 7, 8, 9, 10)\n"
          ]
        }
      ]
    },
    {
      "cell_type": "code",
      "source": [
        "# 24) Develop a code that prompts the user to input two sets of strings. Then, print the elements that are\n",
        "# present in the first set but not in the second set\n",
        "s1 = input(\"Enter the first set of strings(comma-separated):\")\n",
        "s2 = input(\"Enter the second set of strings(comma-separated):\")\n",
        "set1 = set(map(int, s1.split(',')))\n",
        "set2 = set(map(int, s2.split(',')))\n",
        "s = set1 - set2\n",
        "print(\"Elements present in set 1 but not in set 2 are:\", s)"
      ],
      "metadata": {
        "colab": {
          "base_uri": "https://localhost:8080/"
        },
        "id": "N_I43qlpPRTb",
        "outputId": "f741d76f-164b-460e-be93-4376768818c6"
      },
      "execution_count": 14,
      "outputs": [
        {
          "output_type": "stream",
          "name": "stdout",
          "text": [
            "Enter the first set of strings(comma-separated):1,2,3,4,5\n",
            "Enter the second set of strings(comma-separated):4,5,2,6,7\n",
            "Elements present in set 1 but not in set 2 are: {1, 3}\n"
          ]
        }
      ]
    },
    {
      "cell_type": "code",
      "source": [
        "# 25) Create a code that takes a tuple and two integers as input. The function should return a new tuple\n",
        "# containing elements from the original tuple within the specified range of indices\n",
        "t = input(\"Enter the elements of tuple(comma-separated):\")\n",
        "start = int(input(\"Enter the start index:\"))\n",
        "end = int(input(\"Enter the end index:\"))\n",
        "user_tuple = tuple(map(int, t.split(',')))\n",
        "result = user_tuple[start:end+1]\n",
        "print(\"Sliced tuple is:\", result)"
      ],
      "metadata": {
        "colab": {
          "base_uri": "https://localhost:8080/"
        },
        "id": "XUHP4_euP8QU",
        "outputId": "5cf5b14f-e492-4bfb-fb2f-03b7a68b013b"
      },
      "execution_count": 15,
      "outputs": [
        {
          "output_type": "stream",
          "name": "stdout",
          "text": [
            "Enter the elements of tuple(comma-separated):1,2,3,4,5,6,7,8,9\n",
            "Enter the start index:1\n",
            "Enter the end index:5\n",
            "Sliced tuple is: (2, 3, 4, 5, 6)\n"
          ]
        }
      ]
    },
    {
      "cell_type": "code",
      "source": [
        "# 26) Write a code that prompts the user to input two sets of characters. Then, print the union of these two sets\n",
        "s1 = input(\"Enter the first set of characters(comma-separated):\")\n",
        "s2 = input(\"Enter the second set of characters(comma-separated):\")\n",
        "set1 = set(map(str, s1.split(',')))\n",
        "set2 = set(map(str, s2.split(',')))\n",
        "s = set1 | set2\n",
        "print(\"Union of two sets is:\", s)"
      ],
      "metadata": {
        "colab": {
          "base_uri": "https://localhost:8080/"
        },
        "id": "ivyvJbvJTDi3",
        "outputId": "052fa3b6-66bf-46f9-cf15-2246515ecc0e"
      },
      "execution_count": 18,
      "outputs": [
        {
          "output_type": "stream",
          "name": "stdout",
          "text": [
            "Enter the first set of characters(comma-separated):a,b,c,d,e,f\n",
            "Enter the second set of characters(comma-separated):g,h,i,j,k,b\n",
            "Union of two sets is: {'g', 'b', 'h', 'k', 'f', 'e', 'a', 'd', 'j', 'c', 'i'}\n"
          ]
        }
      ]
    },
    {
      "cell_type": "code",
      "source": [
        "# 27) Develop a code that takes a tuple of integers as input. The function should return the maximum and\n",
        "# minimum values from the tuple using tuple unpacking\n",
        "t = input(\"Enter the elements of tuple(comma-separated):\")\n",
        "tup = tuple(map(int, t.split(',')))\n",
        "maxi = max(tup)\n",
        "mini = min(tup)\n",
        "print(\"Maximum value is:\", maxi)\n",
        "print(\"Minimum value is:\", mini)"
      ],
      "metadata": {
        "colab": {
          "base_uri": "https://localhost:8080/"
        },
        "id": "oQWnjCJoWOGL",
        "outputId": "23652733-46be-41d7-fe56-fed6cb36b907"
      },
      "execution_count": 20,
      "outputs": [
        {
          "output_type": "stream",
          "name": "stdout",
          "text": [
            "Enter the elements of tuple(comma-separated):1,2,3,4,5,6,7,8,9,100\n",
            "Maximum value is: 100\n",
            "Minimum value is: 1\n"
          ]
        }
      ]
    },
    {
      "cell_type": "code",
      "source": [
        "# 28) Create a code that defines two sets of integers. Then, print the union, intersection, and difference of these\n",
        "# two sets\n",
        "s1 = input(\"Enter the first set of integers(comma-separated):\")\n",
        "s2 = input(\"Enter the second set of integers(comma-separated):\")\n",
        "set1 = set(map(int, s1.split(',')))\n",
        "set2 = set(map(int, s2.split(',')))\n",
        "union = set1 | set2\n",
        "intersection = set1 & set2\n",
        "difference1 = set1 - set2\n",
        "difference2 = set2 - set1\n",
        "print(\"Union of two sets is:\", union)\n",
        "print(\"Intersection of two sets is:\", intersection)\n",
        "print(\"Difference of first set from second is:\", difference1)\n",
        "print(\"Difference of second set from first is:\", difference2)"
      ],
      "metadata": {
        "colab": {
          "base_uri": "https://localhost:8080/"
        },
        "id": "TDKwrwOuXKfL",
        "outputId": "31cb73c4-eac2-4c54-a8ca-9d2b8a4d2321"
      },
      "execution_count": 22,
      "outputs": [
        {
          "output_type": "stream",
          "name": "stdout",
          "text": [
            "Enter the first set of integers(comma-separated):1,2,3,4,5,6,7\n",
            "Enter the second set of integers(comma-separated):5,6,7,8,9,10,11,12\n",
            "Union of two sets is: {1, 2, 3, 4, 5, 6, 7, 8, 9, 10, 11, 12}\n",
            "Intersection of two sets is: {5, 6, 7}\n",
            "Difference of first set from second is: {1, 2, 3, 4}\n",
            "Difference of second set from first is: {8, 9, 10, 11, 12}\n"
          ]
        }
      ]
    },
    {
      "cell_type": "code",
      "source": [
        "# 29) Write a code that takes a tuple and an element as input. The function should return the count of\n",
        "# occurrences of the given element in the tuple\n",
        "t = input(\"Enter the elements of tuple(comma-separated):\")\n",
        "tup = tuple(map(int, t.split(',')))\n",
        "element = int(input(\"Enter the element you want to search: \"))\n",
        "count = 0\n",
        "for ele in tup:\n",
        "  if ele == element:\n",
        "    count += 1\n",
        "print(\"The element\", element, \"occurs\", count, \"times in the tuple\")"
      ],
      "metadata": {
        "colab": {
          "base_uri": "https://localhost:8080/"
        },
        "id": "YUDMDFWPY3XJ",
        "outputId": "a2a707c4-9cf7-48a2-e147-821af6b81bab"
      },
      "execution_count": 24,
      "outputs": [
        {
          "output_type": "stream",
          "name": "stdout",
          "text": [
            "Enter the elements of tuple(comma-separated):1,2,3,4,5,6,7,8,4,9,2,5,4,1,4,6,4\n",
            "Enter the element you want to search: 4\n",
            "The element 4 occurs 5 times in the tuple\n"
          ]
        }
      ]
    },
    {
      "cell_type": "code",
      "source": [
        "# 30) Develop a code that prompts the user to input two sets of strings. Then, print the symmetric difference of\n",
        "# these two sets\n",
        "s1 = input(\"Enter the first set of strings(comma-separated): \")\n",
        "s2 = input(\"Enter the second set of strings(comma-separated): \")\n",
        "set1 = set(map(str, s1.split(',')))\n",
        "set2 = set(map(str, s2.split(',')))\n",
        "s = set1 ^ set2\n",
        "print(\"Symmetric difference of two sets is:\", s)"
      ],
      "metadata": {
        "colab": {
          "base_uri": "https://localhost:8080/"
        },
        "id": "Fk9ibR28ZzPu",
        "outputId": "239907f7-ed50-41f6-d464-6dbdcbb8b0c8"
      },
      "execution_count": 25,
      "outputs": [
        {
          "output_type": "stream",
          "name": "stdout",
          "text": [
            "Enter the first set of strings(comma-separated): Ace, Ball, Cat, Dog\n",
            "Enter the second set of strings(comma-separated): Cat, Bat, Ball\n",
            "Symmetric difference of two sets is: {' Dog', ' Bat', 'Cat', 'Ace', ' Cat'}\n"
          ]
        }
      ]
    },
    {
      "cell_type": "code",
      "source": [
        "# 31) Write a code that takes a list of words as input and returns a dictionary where the keys are unique words\n",
        "# and the values are the frequencies of those words in the input list\n",
        "l = input(\"Enter the list of words(comma-separated): \")\n",
        "li = list(map(str, l.split(',')))\n",
        "dict = {}\n",
        "for word in li:\n",
        "  if word in dict:\n",
        "    dict[word] += 1\n",
        "  else:\n",
        "    dict[word] = 1\n",
        "print(\"Word frequencies:\", dict)"
      ],
      "metadata": {
        "colab": {
          "base_uri": "https://localhost:8080/"
        },
        "id": "vx3VkUvGalQ_",
        "outputId": "7905c9cc-02c5-45ef-e379-1c01fe7e8a3b"
      },
      "execution_count": 30,
      "outputs": [
        {
          "output_type": "stream",
          "name": "stdout",
          "text": [
            "Enter the list of words(comma-separated): apple, banana, apple, orange, banana, apple\n",
            "Word frequencies: {'apple': 1, ' banana': 2, ' apple': 2, ' orange': 1}\n"
          ]
        }
      ]
    },
    {
      "cell_type": "code",
      "source": [
        "# 32) Write a code that takes two dictionaries as input and merges them into a single dictionary. If there are\n",
        "# common keys, the values should be added together\n",
        "d1 = {'a':1, 'b':2}\n",
        "d2 = {'b':3, 'c':4}\n",
        "d = d1.copy()\n",
        "for key, value in d2.items():\n",
        "  if key in d:\n",
        "    d[key] += value\n",
        "  else:\n",
        "    d[key] = value\n",
        "print(\"Merged dictionary:\", d)"
      ],
      "metadata": {
        "colab": {
          "base_uri": "https://localhost:8080/"
        },
        "id": "xuXBGkSOdvhx",
        "outputId": "eb1ed8f8-9959-4c02-fe07-3bc47b44fcbb"
      },
      "execution_count": 34,
      "outputs": [
        {
          "output_type": "stream",
          "name": "stdout",
          "text": [
            "Merged dictionary: {'a': 1, 'b': 5, 'c': 4}\n"
          ]
        }
      ]
    },
    {
      "cell_type": "code",
      "source": [
        "# 33) Write a code to access a value in a nested dictionary. The function should take the dictionary and a list of\n",
        "# keys as input, and return the corresponding value. If any of the keys do not exist in the dictionary, the\n",
        "# function should return None\n",
        "d = {'student': {'details': {'name': 'Ajay', 'age': 20}}}\n",
        "keys = ['student', 'details', 'name']\n",
        "for key in keys:\n",
        "  if key in d:\n",
        "    d = d[key]\n",
        "  else:\n",
        "    print(\"None\")\n",
        "print(\"Value:\", d)"
      ],
      "metadata": {
        "colab": {
          "base_uri": "https://localhost:8080/"
        },
        "id": "2P82UVBeui5q",
        "outputId": "4884cfb8-ccde-4dc8-cafe-daabc3840142"
      },
      "execution_count": 35,
      "outputs": [
        {
          "output_type": "stream",
          "name": "stdout",
          "text": [
            "Value: Ajay\n"
          ]
        }
      ]
    },
    {
      "cell_type": "code",
      "source": [
        "# 34) Write a code that takes a dictionary as input and returns a sorted version of it based on the values. You\n",
        "# can choose whether to sort in ascending or descending order\n",
        "del dict\n",
        "d = {'apple': 3, 'banana': 1, 'cherry': 2}\n",
        "sorted_d = sorted(d.items(), key = lambda x:x[1])\n",
        "print(\"Sorted dictionary is:\", dict(sorted_d))"
      ],
      "metadata": {
        "colab": {
          "base_uri": "https://localhost:8080/"
        },
        "id": "9x2qEtzkxgGS",
        "outputId": "8751d464-7d96-46e5-dd07-768ebd7f1845"
      },
      "execution_count": 40,
      "outputs": [
        {
          "output_type": "stream",
          "name": "stdout",
          "text": [
            "Sorted dictionary is: {'banana': 1, 'cherry': 2, 'apple': 3}\n"
          ]
        }
      ]
    },
    {
      "cell_type": "code",
      "source": [
        "# 35) Write a code that inverts a dictionary, swapping keys and values. Ensure that the inverted dictionary\n",
        "# correctly handles cases where multiple keys have the same value by storing the keys as a list in the\n",
        "# inverted dictionary\n",
        "d = {'a': 1, 'b': 2, 'c': 1, 'd': 3}\n",
        "inverted_d = {}\n",
        "for key, value in d.items():\n",
        "  if value in inverted_d:\n",
        "    inverted_d[value].append(key)\n",
        "  else:\n",
        "    inverted_d[value] = [key]\n",
        "print(\"Inverted dictionary is:\", inverted_d)"
      ],
      "metadata": {
        "colab": {
          "base_uri": "https://localhost:8080/"
        },
        "id": "W4Zq4Lenzq6W",
        "outputId": "d1e715d3-ac45-4194-ef74-72b51c831257"
      },
      "execution_count": 41,
      "outputs": [
        {
          "output_type": "stream",
          "name": "stdout",
          "text": [
            "Inverted dictionary is: {1: ['a', 'c'], 2: ['b'], 3: ['d']}\n"
          ]
        }
      ]
    }
  ]
}